{
 "cells": [
  {
   "cell_type": "code",
   "execution_count": 1,
   "id": "3f73d0ad-14bf-48b5-9518-07b4cda4b2a5",
   "metadata": {},
   "outputs": [],
   "source": [
    "import os\n",
    "import openai\n",
    "from dotenv import load_dotenv\n",
    "load_dotenv()\n",
    "\n",
    "openai.api_key = os.getenv(\"OPENAI_API_KEY\")\n",
    "\n",
    "message = \"You seem nice, you`re generous and you know your stuff\"\n",
    "prompt = f\"\"\"\n",
    "    Your role: sentiment analyzer\n",
    "    Task: Answer the one of sentiment in the sentiment list ([\"neutral\", \"negative\", \"positive\"]) of the given message.\n",
    "    Message: {message}\n",
    "    \"\"\"\n",
    "\n",
    "\n",
    "completion = openai.ChatCompletion.create(\n",
    "                    model=\"gpt-3.5-turbo\",\n",
    "                    messages=[\n",
    "                        {\"role\": \"user\", \"content\": prompt}\n",
    "                    ],\n",
    "                    max_tokens=1024,\n",
    "                    temperature=0.0\n",
    "                )\n",
    "\n",
    "ans = completion.choices[0].message.content"
   ]
  },
  {
   "cell_type": "code",
   "execution_count": 2,
   "id": "8ed27c0b-40e5-40bf-9fff-0b2884e5ec83",
   "metadata": {},
   "outputs": [
    {
     "name": "stdout",
     "output_type": "stream",
     "text": [
      "Sentiment: positive\n"
     ]
    }
   ],
   "source": [
    "print(ans)"
   ]
  },
  {
   "cell_type": "code",
   "execution_count": null,
   "id": "f32e9abb-057f-4ae9-b9cc-5f1d8d92f8a5",
   "metadata": {},
   "outputs": [],
   "source": []
  }
 ],
 "metadata": {
  "kernelspec": {
   "display_name": "Python 3 (ipykernel)",
   "language": "python",
   "name": "python3"
  },
  "language_info": {
   "codemirror_mode": {
    "name": "ipython",
    "version": 3
   },
   "file_extension": ".py",
   "mimetype": "text/x-python",
   "name": "python",
   "nbconvert_exporter": "python",
   "pygments_lexer": "ipython3",
   "version": "3.10.12"
  }
 },
 "nbformat": 4,
 "nbformat_minor": 5
}
