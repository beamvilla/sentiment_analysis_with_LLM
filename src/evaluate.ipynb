{
 "cells": [
  {
   "cell_type": "code",
   "execution_count": 1,
   "metadata": {},
   "outputs": [],
   "source": [
    "test_set_path = \"../dataset/test-00000-of-00001.parquet\""
   ]
  },
  {
   "cell_type": "code",
   "execution_count": 2,
   "metadata": {},
   "outputs": [],
   "source": [
    "import pandas as pd\n",
    "test_df = pd.read_parquet(test_set_path)"
   ]
  },
  {
   "cell_type": "code",
   "execution_count": 3,
   "metadata": {},
   "outputs": [],
   "source": [
    "from prompt.prompt import get_sentiment_classifier_prompt\n",
    "from llm_service.llm_caller import LLMCaller\n",
    "from config import LLMConfig, load_yaml_config\n",
    "from utils.load_label_maps import load_label_maps\n",
    "\n",
    "import time\n",
    "from tqdm import tqdm"
   ]
  },
  {
   "cell_type": "code",
   "execution_count": 4,
   "metadata": {},
   "outputs": [],
   "source": [
    "LABEL_MAPS = load_label_maps(\"../dataset/label_maps.yaml\")"
   ]
  },
  {
   "cell_type": "code",
   "execution_count": 5,
   "metadata": {},
   "outputs": [],
   "source": [
    "load_yaml_config(\"../config/config.yaml\")"
   ]
  },
  {
   "cell_type": "code",
   "execution_count": 6,
   "metadata": {},
   "outputs": [
    {
     "name": "stderr",
     "output_type": "stream",
     "text": [
      "/root/.local/lib/python3.10/site-packages/tqdm/auto.py:21: TqdmWarning: IProgress not found. Please update jupyter and ipywidgets. See https://ipywidgets.readthedocs.io/en/stable/user_install.html\n",
      "  from .autonotebook import tqdm as notebook_tqdm\n"
     ]
    }
   ],
   "source": [
    "llm_config = LLMConfig()\n",
    "llm_service = LLMCaller(llm_config)"
   ]
  },
  {
   "cell_type": "code",
   "execution_count": null,
   "metadata": {},
   "outputs": [
    {
     "name": "stderr",
     "output_type": "stream",
     "text": [
      "  0%|                                                                                                                              | 0/2671 [00:00<?, ?it/s]WARNING: All log messages before absl::InitializeLog() is called are written to STDERR\n",
      "I0000 00:00:1721477062.964215    1789 config.cc:230] gRPC experiments enabled: call_status_override_on_cancellation, event_engine_dns, event_engine_listener, http2_stats_fix, monitoring_experiment, pick_first_new, trace_record_callops, work_serializer_clears_time_cache\n",
      "I0000 00:00:1721477062.975811    1789 check_gcp_environment.cc:61] BIOS data file does not exist or cannot be opened.\n",
      "  1%|▊                                                                                                                  | 18/2671 [00:34<1:33:58,  2.13s/it]2024-07-20 12:04:57,757 [ERROR]  gemini-pro request error: 429 Resource has been exhausted (e.g. check quota)., waiting for connecting to gemini-pro again\n",
      "  1%|█▌                                                                                                                 | 35/2671 [01:33<1:22:09,  1.87s/it]2024-07-20 12:05:56,625 [ERROR]  gemini-pro request error: 429 Resource has been exhausted (e.g. check quota)., waiting for connecting to gemini-pro again\n",
      "  2%|██▏                                                                                                                | 51/2671 [02:31<1:28:47,  2.03s/it]2024-07-20 12:06:54,867 [ERROR]  gemini-pro request error: 429 Resource has been exhausted (e.g. check quota)., waiting for connecting to gemini-pro again\n",
      "  3%|███                                                                                                                | 70/2671 [03:34<1:17:25,  1.79s/it]2024-07-20 12:07:57,586 [ERROR]  gemini-pro request error: 429 Resource has been exhausted (e.g. check quota)., waiting for connecting to gemini-pro again\n",
      "  3%|███▋                                                                                                               | 87/2671 [04:34<1:17:04,  1.79s/it]2024-07-20 12:08:57,484 [ERROR]  gemini-pro request error: 429 Resource has been exhausted (e.g. check quota)., waiting for connecting to gemini-pro again\n",
      "  4%|████▍                                                                                                             | 104/2671 [05:34<1:11:48,  1.68s/it]2024-07-20 12:09:57,405 [ERROR]  gemini-pro request error: 429 Resource has been exhausted (e.g. check quota)., waiting for connecting to gemini-pro again\n",
      "  4%|█████                                                                                                             | 120/2671 [06:32<1:12:59,  1.72s/it]2024-07-20 12:10:55,657 [ERROR]  gemini-pro request error: 429 Resource has been exhausted (e.g. check quota)., waiting for connecting to gemini-pro again\n"
     ]
    }
   ],
   "source": [
    "#total_row = len(test_df)\n",
    "\n",
    "import os\n",
    "\n",
    "total_row = len(test_df)\n",
    "ans_df = pd.DataFrame(columns=[\"texts\", \"category\", \"process_time\"])\n",
    "\n",
    "RESULTS_DIR = \"../results/\"\n",
    "results_path = os.path.join(RESULTS_DIR, f\"{llm_service.llm_config.MODEL}_results.csv\")\n",
    "\n",
    "if not os.path.exists(RESULTS_DIR):\n",
    "    os.makedirs(RESULTS_DIR)\n",
    "\n",
    "for row in tqdm(range(total_row)):\n",
    "    sentence = test_df.loc[row, \"texts\"]\n",
    "    sentiment_classifier_prompt = get_sentiment_classifier_prompt(message=sentence)\n",
    "    start_process = time.time()\n",
    "    ans = llm_service.call(sentiment_classifier_prompt)\n",
    "    process_time = time.time() - start_process\n",
    "    try:\n",
    "        category = LABEL_MAPS[ans]\n",
    "    except KeyError:\n",
    "        category = ans\n",
    "\n",
    "    ans_df.loc[row, \"texts\"] = sentence\n",
    "    ans_df.loc[row, \"category\"] = category\n",
    "    ans_df.loc[row, \"process_time\"] = process_time\n",
    "\n",
    "    ans_df.to_csv(results_path, index=False)"
   ]
  },
  {
   "cell_type": "code",
   "execution_count": null,
   "metadata": {},
   "outputs": [],
   "source": [
    "def evaluate(test_df: pd.DataFrame, ans_df: pd.DataFrame) -> float:\n",
    "    correct = 0\n",
    "\n",
    "    if len(test_df) != len(ans_df):\n",
    "        raise ValueError(\"2 dataframes not same length.\")\n",
    "\n",
    "    total_row = len(test_df)\n",
    "    for row in range(total_row):\n",
    "        actual = test_df.loc[row, \"category\"]\n",
    "        predict = ans_df.loc[row, \"category\"]\n",
    "        if actual == predict:\n",
    "            correct += 1\n",
    "    return correct / total_row"
   ]
  },
  {
   "cell_type": "code",
   "execution_count": null,
   "metadata": {},
   "outputs": [],
   "source": [
    "acc = evaluate(test_df, ans_df)"
   ]
  },
  {
   "cell_type": "code",
   "execution_count": null,
   "metadata": {},
   "outputs": [],
   "source": [
    "acc"
   ]
  },
  {
   "cell_type": "code",
   "execution_count": null,
   "metadata": {},
   "outputs": [],
   "source": []
  }
 ],
 "metadata": {
  "kernelspec": {
   "display_name": "Python 3 (ipykernel)",
   "language": "python",
   "name": "python3"
  },
  "language_info": {
   "codemirror_mode": {
    "name": "ipython",
    "version": 3
   },
   "file_extension": ".py",
   "mimetype": "text/x-python",
   "name": "python",
   "nbconvert_exporter": "python",
   "pygments_lexer": "ipython3",
   "version": "3.10.12"
  }
 },
 "nbformat": 4,
 "nbformat_minor": 4
}
