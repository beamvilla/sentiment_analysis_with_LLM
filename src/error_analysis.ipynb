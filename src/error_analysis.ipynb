{
 "cells": [
  {
   "cell_type": "code",
   "execution_count": 1,
   "id": "c405c459-cf4d-42a9-8825-18c7c1527972",
   "metadata": {},
   "outputs": [],
   "source": [
    "import pandas as pd"
   ]
  },
  {
   "cell_type": "code",
   "execution_count": 13,
   "id": "3f31452c",
   "metadata": {},
   "outputs": [],
   "source": [
    "pd.set_option('max_colwidth', 100)"
   ]
  },
  {
   "cell_type": "code",
   "execution_count": 14,
   "id": "0045d743-2aff-40b7-bbc3-3569557d905c",
   "metadata": {},
   "outputs": [],
   "source": [
    "pred_df = pd.read_csv(\"../results/gemini-1.0-pro_preprocess_results.csv\")"
   ]
  },
  {
   "cell_type": "code",
   "execution_count": 15,
   "id": "14104f26-e820-4d97-a9c2-199c29a844c2",
   "metadata": {},
   "outputs": [],
   "source": [
    "test_df = pd.read_parquet(\"../dataset/test-00000-of-00001.parquet\")"
   ]
  },
  {
   "cell_type": "code",
   "execution_count": 16,
   "id": "a7453b0a-d4ee-4478-a891-d7e31c8bdfe7",
   "metadata": {},
   "outputs": [],
   "source": [
    "label_index_maps = {\n",
    "    0: \"positive\",\n",
    "    1: \"neutral\",\n",
    "    2: \"negative\",\n",
    "    3: \"question\"\n",
    "}"
   ]
  },
  {
   "cell_type": "code",
   "execution_count": 17,
   "id": "5ba73240-237f-444d-9eef-ed700c61effc",
   "metadata": {},
   "outputs": [],
   "source": [
    "def explore_mismatch_answer(actual_class: str, pred_class: str) -> pd.DataFrame:\n",
    "    mismatch_df = pd.DataFrame(columns=[\"texts\"])\n",
    "    for row in range(len(test_df)):\n",
    "        actual = label_index_maps[test_df.loc[row, \"category\"]]\n",
    "        pred = label_index_maps[pred_df.loc[row, \"category\"]]\n",
    "        if actual == actual_class and pred == pred_class:\n",
    "            mismatch_df.loc[row, \"texts\"] = test_df.loc[row, \"texts\"]\n",
    "    return mismatch_df"
   ]
  },
  {
   "cell_type": "code",
   "execution_count": 18,
   "id": "94afeb6c-7ee7-4435-bb29-511c9e26a463",
   "metadata": {},
   "outputs": [],
   "source": [
    "# Answer neutral -> negative\n",
    "neu_to_neg = explore_mismatch_answer(actual_class=\"neutral\", pred_class=\"negative\")"
   ]
  },
  {
   "cell_type": "code",
   "execution_count": 19,
   "id": "adbeddcf-dd82-4ef7-8dfa-ff3d86449586",
   "metadata": {},
   "outputs": [],
   "source": [
    "# Answer neg -> neu\n",
    "neg_to_neu = explore_mismatch_answer(actual_class=\"negative\", pred_class=\"neutral\")"
   ]
  },
  {
   "cell_type": "code",
   "execution_count": 20,
   "id": "a8658fcf-6072-4e11-b5c2-65e0c6ed646c",
   "metadata": {},
   "outputs": [],
   "source": [
    "# Answer neg -> pos\n",
    "neg_to_pos = explore_mismatch_answer(actual_class=\"negative\", pred_class=\"positive\")"
   ]
  },
  {
   "cell_type": "code",
   "execution_count": 24,
   "id": "884a8623",
   "metadata": {},
   "outputs": [],
   "source": [
    "pos_to_neg = explore_mismatch_answer(actual_class=\"positive\", pred_class=\"negative\")"
   ]
  },
  {
   "cell_type": "code",
   "execution_count": 26,
   "id": "fc423010-cb6f-4bcf-b170-3c703ac46b48",
   "metadata": {},
   "outputs": [
    {
     "data": {
      "text/html": [
       "<div>\n",
       "<style scoped>\n",
       "    .dataframe tbody tr th:only-of-type {\n",
       "        vertical-align: middle;\n",
       "    }\n",
       "\n",
       "    .dataframe tbody tr th {\n",
       "        vertical-align: top;\n",
       "    }\n",
       "\n",
       "    .dataframe thead th {\n",
       "        text-align: right;\n",
       "    }\n",
       "</style>\n",
       "<table border=\"1\" class=\"dataframe\">\n",
       "  <thead>\n",
       "    <tr style=\"text-align: right;\">\n",
       "      <th></th>\n",
       "      <th>texts</th>\n",
       "    </tr>\n",
       "  </thead>\n",
       "  <tbody>\n",
       "    <tr>\n",
       "      <th>278</th>\n",
       "      <td>อยากแดก ใอ่สัส!! งงพ่องอ่า</td>\n",
       "    </tr>\n",
       "    <tr>\n",
       "      <th>292</th>\n",
       "      <td>พวกคนแก่ชอบขวางโลก</td>\n",
       "    </tr>\n",
       "    <tr>\n",
       "      <th>339</th>\n",
       "      <td>เสริมทักษะ. ^^ ต้องรู้ผิดรู้ถูก. ตอนนึ้นานๆกินๆแฮ้ง ลำบากกาย..นานๆที่ สปายสามขวดพอดี ดื่มคนเดียว...</td>\n",
       "    </tr>\n",
       "    <tr>\n",
       "      <th>406</th>\n",
       "      <td>กินดิๆๆๆๆๆ</td>\n",
       "    </tr>\n",
       "    <tr>\n",
       "      <th>483</th>\n",
       "      <td>สายลมแห่งรัก ธรรมมะติดปีก ห่างกันสักพัก คือการหมดรักเนียน จัดเลยไหม</td>\n",
       "    </tr>\n",
       "    <tr>\n",
       "      <th>836</th>\n",
       "      <td>#popezaap พี่บอกบอกหลายทีแล้ว...ลุงกล่าว วันวาเลนไทน์ ก็จะเยอะเป็นพิเศษนิดนึ่ง เชื่อว่าต่อไปส้มส...</td>\n",
       "    </tr>\n",
       "    <tr>\n",
       "      <th>858</th>\n",
       "      <td>กินประจำช้าง เมาอยู่นะ</td>\n",
       "    </tr>\n",
       "    <tr>\n",
       "      <th>979</th>\n",
       "      <td>เลิกได้จิง กลับไปสูบบุหรี่มวนไม่ได้แถบอ้วกเลย</td>\n",
       "    </tr>\n",
       "    <tr>\n",
       "      <th>1045</th>\n",
       "      <td>เครถ้าไม่กล้บบ้านน๋า</td>\n",
       "    </tr>\n",
       "    <tr>\n",
       "      <th>1049</th>\n",
       "      <td>ไปกะปะ</td>\n",
       "    </tr>\n",
       "  </tbody>\n",
       "</table>\n",
       "</div>"
      ],
      "text/plain": [
       "                                                                                                    texts\n",
       "278                                                                            อยากแดก ใอ่สัส!! งงพ่องอ่า\n",
       "292                                                                                    พวกคนแก่ชอบขวางโลก\n",
       "339   เสริมทักษะ. ^^ ต้องรู้ผิดรู้ถูก. ตอนนึ้นานๆกินๆแฮ้ง ลำบากกาย..นานๆที่ สปายสามขวดพอดี ดื่มคนเดียว...\n",
       "406                                                                                            กินดิๆๆๆๆๆ\n",
       "483                                   สายลมแห่งรัก ธรรมมะติดปีก ห่างกันสักพัก คือการหมดรักเนียน จัดเลยไหม\n",
       "836   #popezaap พี่บอกบอกหลายทีแล้ว...ลุงกล่าว วันวาเลนไทน์ ก็จะเยอะเป็นพิเศษนิดนึ่ง เชื่อว่าต่อไปส้มส...\n",
       "858                                                                                กินประจำช้าง เมาอยู่นะ\n",
       "979                                                         เลิกได้จิง กลับไปสูบบุหรี่มวนไม่ได้แถบอ้วกเลย\n",
       "1045                                                                                 เครถ้าไม่กล้บบ้านน๋า\n",
       "1049                                                                                               ไปกะปะ"
      ]
     },
     "execution_count": 26,
     "metadata": {},
     "output_type": "execute_result"
    }
   ],
   "source": [
    "pos_to_neg[:10]"
   ]
  },
  {
   "cell_type": "code",
   "execution_count": 35,
   "id": "b61e71be-525a-4bc1-8de3-16ed82553ece",
   "metadata": {},
   "outputs": [
    {
     "data": {
      "text/html": [
       "<div>\n",
       "<style scoped>\n",
       "    .dataframe tbody tr th:only-of-type {\n",
       "        vertical-align: middle;\n",
       "    }\n",
       "\n",
       "    .dataframe tbody tr th {\n",
       "        vertical-align: top;\n",
       "    }\n",
       "\n",
       "    .dataframe thead th {\n",
       "        text-align: right;\n",
       "    }\n",
       "</style>\n",
       "<table border=\"1\" class=\"dataframe\">\n",
       "  <thead>\n",
       "    <tr style=\"text-align: right;\">\n",
       "      <th></th>\n",
       "      <th>texts</th>\n",
       "      <th>category</th>\n",
       "    </tr>\n",
       "  </thead>\n",
       "  <tbody>\n",
       "    <tr>\n",
       "      <th>483</th>\n",
       "      <td>สายลมแห่งรัก ธรรมมะติดปีก ห่างกันสักพัก คือการหมดรักเนียน จัดเลยไหม</td>\n",
       "      <td>0</td>\n",
       "    </tr>\n",
       "  </tbody>\n",
       "</table>\n",
       "</div>"
      ],
      "text/plain": [
       "                                                                   texts  \\\n",
       "483  สายลมแห่งรัก ธรรมมะติดปีก ห่างกันสักพัก คือการหมดรักเนียน จัดเลยไหม   \n",
       "\n",
       "     category  \n",
       "483         0  "
      ]
     },
     "execution_count": 35,
     "metadata": {},
     "output_type": "execute_result"
    }
   ],
   "source": [
    "test_df[test_df.texts == \"สายลมแห่งรัก ธรรมมะติดปีก ห่างกันสักพัก คือการหมดรักเนียน จัดเลยไหม\"]"
   ]
  },
  {
   "cell_type": "code",
   "execution_count": 34,
   "id": "33a6487f-66d4-441f-b40d-017151fdb383",
   "metadata": {},
   "outputs": [
    {
     "data": {
      "text/plain": [
       "0.704538178506392"
      ]
     },
     "execution_count": 34,
     "metadata": {},
     "output_type": "execute_result"
    }
   ],
   "source": [
    "pred_df = pd.read_csv(\"../results/gpt-4o_preprocess_results.csv\")\n",
    "\n",
    "sum(pred_df[\"process_time\"].values) / len(pred_df[\"process_time\"].values)"
   ]
  },
  {
   "cell_type": "code",
   "execution_count": null,
   "id": "81cb841c",
   "metadata": {},
   "outputs": [],
   "source": []
  }
 ],
 "metadata": {
  "kernelspec": {
   "display_name": "Python 3 (ipykernel)",
   "language": "python",
   "name": "python3"
  },
  "language_info": {
   "codemirror_mode": {
    "name": "ipython",
    "version": 3
   },
   "file_extension": ".py",
   "mimetype": "text/x-python",
   "name": "python",
   "nbconvert_exporter": "python",
   "pygments_lexer": "ipython3",
   "version": "3.8.8"
  }
 },
 "nbformat": 4,
 "nbformat_minor": 5
}
