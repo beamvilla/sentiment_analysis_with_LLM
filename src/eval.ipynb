{
 "cells": [
  {
   "cell_type": "code",
   "execution_count": 1,
   "id": "1d67c488-43fa-40f9-abe1-ec5751faaf84",
   "metadata": {},
   "outputs": [],
   "source": [
    "test_set_path = \"../dataset/test.csv\""
   ]
  },
  {
   "cell_type": "code",
   "execution_count": 2,
   "id": "cf89b5f5-ab8f-4b60-a01b-a17f3b7cfd0b",
   "metadata": {},
   "outputs": [],
   "source": [
    "import pandas as pd\n",
    "\n",
    "if test_set_path.endswith(\".parquet\"):\n",
    "    test_df = pd.read_parquet(test_set_path)\n",
    "else:\n",
    "    test_df = pd.read_csv(test_set_path, encoding=\"ISO-8859-1\")"
   ]
  },
  {
   "cell_type": "code",
   "execution_count": 3,
   "id": "868db0a0",
   "metadata": {},
   "outputs": [],
   "source": [
    "test_df = test_df.rename(columns={\"text\": \"texts\", \"sentiment\": \"category\"})"
   ]
  },
  {
   "cell_type": "code",
   "execution_count": 4,
   "id": "bb05fa2e-6240-4673-8476-648d1b9aad2c",
   "metadata": {},
   "outputs": [
    {
     "data": {
      "text/html": [
       "<div>\n",
       "<style scoped>\n",
       "    .dataframe tbody tr th:only-of-type {\n",
       "        vertical-align: middle;\n",
       "    }\n",
       "\n",
       "    .dataframe tbody tr th {\n",
       "        vertical-align: top;\n",
       "    }\n",
       "\n",
       "    .dataframe thead th {\n",
       "        text-align: right;\n",
       "    }\n",
       "</style>\n",
       "<table border=\"1\" class=\"dataframe\">\n",
       "  <thead>\n",
       "    <tr style=\"text-align: right;\">\n",
       "      <th></th>\n",
       "      <th>textID</th>\n",
       "      <th>texts</th>\n",
       "      <th>category</th>\n",
       "      <th>Time of Tweet</th>\n",
       "      <th>Age of User</th>\n",
       "      <th>Country</th>\n",
       "      <th>Population -2020</th>\n",
       "      <th>Land Area (Kmï¿½)</th>\n",
       "      <th>Density (P/Kmï¿½)</th>\n",
       "    </tr>\n",
       "  </thead>\n",
       "  <tbody>\n",
       "    <tr>\n",
       "      <th>0</th>\n",
       "      <td>f87dea47db</td>\n",
       "      <td>Last session of the day  http://twitpic.com/67ezh</td>\n",
       "      <td>neutral</td>\n",
       "      <td>morning</td>\n",
       "      <td>0-20</td>\n",
       "      <td>Afghanistan</td>\n",
       "      <td>38928346</td>\n",
       "      <td>652860.0</td>\n",
       "      <td>60</td>\n",
       "    </tr>\n",
       "    <tr>\n",
       "      <th>1</th>\n",
       "      <td>96d74cb729</td>\n",
       "      <td>Shanghai is also really exciting (precisely -...</td>\n",
       "      <td>positive</td>\n",
       "      <td>noon</td>\n",
       "      <td>21-30</td>\n",
       "      <td>Albania</td>\n",
       "      <td>2877797</td>\n",
       "      <td>27400.0</td>\n",
       "      <td>105</td>\n",
       "    </tr>\n",
       "    <tr>\n",
       "      <th>2</th>\n",
       "      <td>eee518ae67</td>\n",
       "      <td>Recession hit Veronique Branquinho, she has to...</td>\n",
       "      <td>negative</td>\n",
       "      <td>night</td>\n",
       "      <td>31-45</td>\n",
       "      <td>Algeria</td>\n",
       "      <td>43851044</td>\n",
       "      <td>2381740.0</td>\n",
       "      <td>18</td>\n",
       "    </tr>\n",
       "    <tr>\n",
       "      <th>3</th>\n",
       "      <td>01082688c6</td>\n",
       "      <td>happy bday!</td>\n",
       "      <td>positive</td>\n",
       "      <td>morning</td>\n",
       "      <td>46-60</td>\n",
       "      <td>Andorra</td>\n",
       "      <td>77265</td>\n",
       "      <td>470.0</td>\n",
       "      <td>164</td>\n",
       "    </tr>\n",
       "    <tr>\n",
       "      <th>4</th>\n",
       "      <td>33987a8ee5</td>\n",
       "      <td>http://twitpic.com/4w75p - I like it!!</td>\n",
       "      <td>positive</td>\n",
       "      <td>noon</td>\n",
       "      <td>60-70</td>\n",
       "      <td>Angola</td>\n",
       "      <td>32866272</td>\n",
       "      <td>1246700.0</td>\n",
       "      <td>26</td>\n",
       "    </tr>\n",
       "    <tr>\n",
       "      <th>...</th>\n",
       "      <td>...</td>\n",
       "      <td>...</td>\n",
       "      <td>...</td>\n",
       "      <td>...</td>\n",
       "      <td>...</td>\n",
       "      <td>...</td>\n",
       "      <td>...</td>\n",
       "      <td>...</td>\n",
       "      <td>...</td>\n",
       "    </tr>\n",
       "    <tr>\n",
       "      <th>3529</th>\n",
       "      <td>e5f0e6ef4b</td>\n",
       "      <td>its at 3 am, im very tired but i can`t sleep  ...</td>\n",
       "      <td>negative</td>\n",
       "      <td>noon</td>\n",
       "      <td>21-30</td>\n",
       "      <td>Nicaragua</td>\n",
       "      <td>6624554</td>\n",
       "      <td>120340.0</td>\n",
       "      <td>55</td>\n",
       "    </tr>\n",
       "    <tr>\n",
       "      <th>3530</th>\n",
       "      <td>416863ce47</td>\n",
       "      <td>All alone in this old house again.  Thanks for...</td>\n",
       "      <td>positive</td>\n",
       "      <td>night</td>\n",
       "      <td>31-45</td>\n",
       "      <td>Niger</td>\n",
       "      <td>24206644</td>\n",
       "      <td>1266700.0</td>\n",
       "      <td>19</td>\n",
       "    </tr>\n",
       "    <tr>\n",
       "      <th>3531</th>\n",
       "      <td>6332da480c</td>\n",
       "      <td>I know what you mean. My little dog is sinkin...</td>\n",
       "      <td>negative</td>\n",
       "      <td>morning</td>\n",
       "      <td>46-60</td>\n",
       "      <td>Nigeria</td>\n",
       "      <td>206139589</td>\n",
       "      <td>910770.0</td>\n",
       "      <td>226</td>\n",
       "    </tr>\n",
       "    <tr>\n",
       "      <th>3532</th>\n",
       "      <td>df1baec676</td>\n",
       "      <td>_sutra what is your next youtube video gonna b...</td>\n",
       "      <td>positive</td>\n",
       "      <td>noon</td>\n",
       "      <td>60-70</td>\n",
       "      <td>North Korea</td>\n",
       "      <td>25778816</td>\n",
       "      <td>120410.0</td>\n",
       "      <td>214</td>\n",
       "    </tr>\n",
       "    <tr>\n",
       "      <th>3533</th>\n",
       "      <td>469e15c5a8</td>\n",
       "      <td>http://twitpic.com/4woj2 - omgssh  ang cute n...</td>\n",
       "      <td>positive</td>\n",
       "      <td>night</td>\n",
       "      <td>70-100</td>\n",
       "      <td>North Macedonia</td>\n",
       "      <td>2083374</td>\n",
       "      <td>25220.0</td>\n",
       "      <td>83</td>\n",
       "    </tr>\n",
       "  </tbody>\n",
       "</table>\n",
       "<p>3534 rows × 9 columns</p>\n",
       "</div>"
      ],
      "text/plain": [
       "          textID                                              texts  category  \\\n",
       "0     f87dea47db  Last session of the day  http://twitpic.com/67ezh   neutral   \n",
       "1     96d74cb729   Shanghai is also really exciting (precisely -...  positive   \n",
       "2     eee518ae67  Recession hit Veronique Branquinho, she has to...  negative   \n",
       "3     01082688c6                                        happy bday!  positive   \n",
       "4     33987a8ee5             http://twitpic.com/4w75p - I like it!!  positive   \n",
       "...          ...                                                ...       ...   \n",
       "3529  e5f0e6ef4b  its at 3 am, im very tired but i can`t sleep  ...  negative   \n",
       "3530  416863ce47  All alone in this old house again.  Thanks for...  positive   \n",
       "3531  6332da480c   I know what you mean. My little dog is sinkin...  negative   \n",
       "3532  df1baec676  _sutra what is your next youtube video gonna b...  positive   \n",
       "3533  469e15c5a8   http://twitpic.com/4woj2 - omgssh  ang cute n...  positive   \n",
       "\n",
       "     Time of Tweet Age of User          Country  Population -2020  \\\n",
       "0          morning        0-20      Afghanistan          38928346   \n",
       "1             noon       21-30          Albania           2877797   \n",
       "2            night       31-45          Algeria          43851044   \n",
       "3          morning       46-60          Andorra             77265   \n",
       "4             noon       60-70           Angola          32866272   \n",
       "...            ...         ...              ...               ...   \n",
       "3529          noon       21-30        Nicaragua           6624554   \n",
       "3530         night       31-45            Niger          24206644   \n",
       "3531       morning       46-60          Nigeria         206139589   \n",
       "3532          noon       60-70      North Korea          25778816   \n",
       "3533         night      70-100  North Macedonia           2083374   \n",
       "\n",
       "      Land Area (Kmï¿½)  Density (P/Kmï¿½)  \n",
       "0              652860.0                 60  \n",
       "1               27400.0                105  \n",
       "2             2381740.0                 18  \n",
       "3                 470.0                164  \n",
       "4             1246700.0                 26  \n",
       "...                 ...                ...  \n",
       "3529           120340.0                 55  \n",
       "3530          1266700.0                 19  \n",
       "3531           910770.0                226  \n",
       "3532           120410.0                214  \n",
       "3533            25220.0                 83  \n",
       "\n",
       "[3534 rows x 9 columns]"
      ]
     },
     "execution_count": 4,
     "metadata": {},
     "output_type": "execute_result"
    }
   ],
   "source": [
    "test_df"
   ]
  },
  {
   "cell_type": "code",
   "execution_count": 5,
   "id": "09b39aef-cfb4-41cb-b3ad-41fae0050f64",
   "metadata": {},
   "outputs": [
    {
     "name": "stdout",
     "output_type": "stream",
     "text": [
      "Requirement already satisfied: regex in /usr/local/lib/python3.10/site-packages (2024.7.24)\n",
      "Requirement already satisfied: ratelimit in /usr/local/lib/python3.10/site-packages (2.2.1)\n",
      "\u001b[33mWARNING: Running pip as the 'root' user can result in broken permissions and conflicting behaviour with the system package manager. It is recommended to use a virtual environment instead: https://pip.pypa.io/warnings/venv\u001b[0m\u001b[33m\n",
      "\u001b[0m\n",
      "\u001b[1m[\u001b[0m\u001b[34;49mnotice\u001b[0m\u001b[1;39;49m]\u001b[0m\u001b[39;49m A new release of pip is available: \u001b[0m\u001b[31;49m23.0.1\u001b[0m\u001b[39;49m -> \u001b[0m\u001b[32;49m24.2\u001b[0m\n",
      "\u001b[1m[\u001b[0m\u001b[34;49mnotice\u001b[0m\u001b[1;39;49m]\u001b[0m\u001b[39;49m To update, run: \u001b[0m\u001b[32;49mpip install --upgrade pip\u001b[0m\n"
     ]
    }
   ],
   "source": [
    "!pip install regex ratelimit"
   ]
  },
  {
   "cell_type": "code",
   "execution_count": 6,
   "id": "d2baa99a-8d82-4617-8d59-e723e2401666",
   "metadata": {},
   "outputs": [],
   "source": [
    "from prompt.prompt import get_sentiment_classifier_prompt\n",
    "from llm_service.llm_caller import LLMCaller\n",
    "from config import LLMConfig, load_yaml_config\n",
    "from utils.load_label_maps import load_label_maps\n",
    "#from utils.evaluate import get_accuracy\n",
    "from utils.preprocess import *\n",
    "\n",
    "import time\n",
    "from tqdm import tqdm"
   ]
  },
  {
   "cell_type": "code",
   "execution_count": 7,
   "id": "2fef533c-0490-43e7-a741-57c5909f8a56",
   "metadata": {},
   "outputs": [],
   "source": [
    "def preprocess_pipelines(text: str) -> str:\n",
    "    text = remove_url(text)\n",
    "    #text = remove_special_char(text)\n",
    "    return text"
   ]
  },
  {
   "cell_type": "code",
   "execution_count": 8,
   "id": "a1b396b1-b785-45ae-b61f-9b5381af50e2",
   "metadata": {},
   "outputs": [],
   "source": [
    "LABEL_MAPS = load_label_maps(\"../dataset/label_maps.yaml\")"
   ]
  },
  {
   "cell_type": "code",
   "execution_count": 9,
   "id": "a15071f7-6eb8-45dd-9837-9003997d6d5e",
   "metadata": {},
   "outputs": [],
   "source": [
    "load_yaml_config(\"../config/gemini_config.yaml\")"
   ]
  },
  {
   "cell_type": "code",
   "execution_count": 10,
   "id": "08ee9448-851f-4224-9fce-f730663880cb",
   "metadata": {},
   "outputs": [
    {
     "name": "stderr",
     "output_type": "stream",
     "text": [
      "/root/.local/lib/python3.10/site-packages/tqdm/auto.py:21: TqdmWarning: IProgress not found. Please update jupyter and ipywidgets. See https://ipywidgets.readthedocs.io/en/stable/user_install.html\n",
      "  from .autonotebook import tqdm as notebook_tqdm\n"
     ]
    }
   ],
   "source": [
    "llm_config = LLMConfig()\n",
    "llm_service = LLMCaller(llm_config)"
   ]
  },
  {
   "cell_type": "code",
   "execution_count": 11,
   "id": "f5d34eab-2330-4b75-aef9-b5727acb3d7f",
   "metadata": {},
   "outputs": [
    {
     "data": {
      "text/plain": [
       "'gemini-1.0-pro'"
      ]
     },
     "execution_count": 11,
     "metadata": {},
     "output_type": "execute_result"
    }
   ],
   "source": [
    "llm_config.MODEL"
   ]
  },
  {
   "cell_type": "code",
   "execution_count": null,
   "id": "f903fc92-82e2-4894-81c7-4771d3f2bce7",
   "metadata": {},
   "outputs": [
    {
     "name": "stderr",
     "output_type": "stream",
     "text": [
      "  0%|                                                                                                                              | 0/3534 [00:00<?, ?it/s]WARNING: All log messages before absl::InitializeLog() is called are written to STDERR\n",
      "I0000 00:00:1723392216.357332    7469 config.cc:230] gRPC experiments enabled: call_status_override_on_cancellation, event_engine_dns, event_engine_listener, http2_stats_fix, monitoring_experiment, pick_first_new, trace_record_callops, work_serializer_clears_time_cache\n",
      "I0000 00:00:1723392216.364907    7469 check_gcp_environment.cc:61] BIOS data file does not exist or cannot be opened.\n",
      "  9%|█████████▉                                                                                                          | 301/3534 [05:10<51:05,  1.05it/s]"
     ]
    }
   ],
   "source": [
    "import os\n",
    "\n",
    "total_row = len(test_df)\n",
    "ans_df = pd.DataFrame(columns=[\"texts\", \"category\", \"process_time\"])\n",
    "\n",
    "RESULTS_DIR = \"../results/english_dataset\"\n",
    "results_path = os.path.join(RESULTS_DIR, f\"{llm_service.llm_config.MODEL}_preprocess_results.csv\")\n",
    "\n",
    "if not os.path.exists(RESULTS_DIR):\n",
    "    os.makedirs(RESULTS_DIR)\n",
    "\n",
    "for row in tqdm(range(0, len(test_df))):\n",
    "    sentence = test_df.loc[row, \"texts\"]\n",
    "    preprocessed_sentence = preprocess_pipelines(sentence)\n",
    "    sentiment_classifier_prompt = get_sentiment_classifier_prompt(message=preprocessed_sentence)\n",
    "    start_process = time.time()\n",
    "    ans = llm_service.call(sentiment_classifier_prompt)\n",
    "    process_time = time.time() - start_process\n",
    "    try:\n",
    "        category = LABEL_MAPS[ans]\n",
    "    except KeyError:\n",
    "        category = ans\n",
    "\n",
    "    ans_df.loc[row, \"texts\"] = sentence\n",
    "    ans_df.loc[row, \"category\"] = category\n",
    "    ans_df.loc[row, \"process_time\"] = process_time\n",
    "\n",
    "    ans_df.to_csv(results_path, index=False)"
   ]
  },
  {
   "cell_type": "code",
   "execution_count": null,
   "id": "68c7d821-5b82-46b9-a373-24ed65f65722",
   "metadata": {},
   "outputs": [],
   "source": [
    "ans_df = pd.read_csv(results_path)"
   ]
  },
  {
   "cell_type": "code",
   "execution_count": null,
   "id": "8949081b-cb27-425d-941d-e5635f4765d6",
   "metadata": {},
   "outputs": [],
   "source": [
    "post_process_ans_df = pd.DataFrame(columns=[\"texts\", \"category\", \"process_time\"])\n",
    "for row in range(len(ans_df)):\n",
    "    category = ans_df.loc[row, \"category\"]\n",
    "    if isinstance(category, str):\n",
    "        if \"neutral\" in category:\n",
    "            category = LABEL_MAPS[\"neutral\"]\n",
    "        elif \"positive\" in category:\n",
    "            category = LABEL_MAPS[\"positive\"]\n",
    "        elif \"negative\" in category:\n",
    "            category = LABEL_MAPS[\"negative\"]\n",
    "        # elif \"question\" in category:\n",
    "        #     category = LABEL_MAPS[\"neutral\"]\n",
    "\n",
    "    post_process_ans_df.loc[row, \"texts\"] = ans_df.loc[row, \"texts\"]\n",
    "    post_process_ans_df.loc[row, \"category\"] = int(category)\n",
    "    post_process_ans_df.loc[row, \"process_time\"] = ans_df.loc[row, \"process_time\"]"
   ]
  },
  {
   "cell_type": "code",
   "execution_count": null,
   "id": "11e4d116-0c0c-4656-91fb-06c947ddd186",
   "metadata": {},
   "outputs": [],
   "source": [
    "def get_accuracy(test_df: pd.DataFrame, ans_df: pd.DataFrame) -> float:\n",
    "    correct = 0\n",
    "\n",
    "    if len(test_df) != len(ans_df):\n",
    "        raise ValueError(\"2 dataframes not same length.\")\n",
    "\n",
    "    total_row = len(test_df)\n",
    "    for row in range(total_row):\n",
    "        actual = LABEL_MAPS[test_df.loc[row, \"category\"]]\n",
    "        predict = ans_df.loc[row, \"category\"]\n",
    "        if actual == predict:\n",
    "            correct += 1\n",
    "    return correct / total_row"
   ]
  },
  {
   "cell_type": "code",
   "execution_count": null,
   "id": "c5f7b845-d681-46c6-b91d-e548cc35916f",
   "metadata": {},
   "outputs": [],
   "source": [
    "acc = get_accuracy(test_df, post_process_ans_df)"
   ]
  },
  {
   "cell_type": "code",
   "execution_count": null,
   "id": "7d14db9a-01f9-4a01-9006-58924ede5dd0",
   "metadata": {},
   "outputs": [],
   "source": [
    "acc"
   ]
  },
  {
   "cell_type": "code",
   "execution_count": null,
   "id": "0f99e755-440e-4b6a-bd35-6aa8ce376d34",
   "metadata": {},
   "outputs": [],
   "source": [
    "for row in range(len(post_process_ans_df)):\n",
    "    pred = post_process_ans_df.loc[row, \"category\"]\n",
    "    actual = test_df.loc[row, \"category\"]\n",
    "    text = post_process_ans_df.loc[row, \"texts\"]\n",
    "    if pred != actual:\n",
    "        print(f\"{text}, actual: {actual}, pred: {pred}\")"
   ]
  },
  {
   "cell_type": "code",
   "execution_count": null,
   "id": "0ea4ca44-619a-47c2-9f72-b8f08fa7ceb3",
   "metadata": {},
   "outputs": [],
   "source": []
  }
 ],
 "metadata": {
  "kernelspec": {
   "display_name": "Python 3 (ipykernel)",
   "language": "python",
   "name": "python3"
  },
  "language_info": {
   "codemirror_mode": {
    "name": "ipython",
    "version": 3
   },
   "file_extension": ".py",
   "mimetype": "text/x-python",
   "name": "python",
   "nbconvert_exporter": "python",
   "pygments_lexer": "ipython3",
   "version": "3.8.8"
  }
 },
 "nbformat": 4,
 "nbformat_minor": 5
}
