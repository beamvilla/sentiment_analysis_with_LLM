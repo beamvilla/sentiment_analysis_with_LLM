{
 "cells": [
  {
   "cell_type": "code",
   "execution_count": 1,
   "id": "1d67c488-43fa-40f9-abe1-ec5751faaf84",
   "metadata": {},
   "outputs": [],
   "source": [
    "test_set_path = \"../dataset/test-00000-of-00001.parquet\""
   ]
  },
  {
   "cell_type": "code",
   "execution_count": 2,
   "id": "cf89b5f5-ab8f-4b60-a01b-a17f3b7cfd0b",
   "metadata": {},
   "outputs": [],
   "source": [
    "import pandas as pd\n",
    "test_df = pd.read_parquet(test_set_path)"
   ]
  },
  {
   "cell_type": "code",
   "execution_count": 3,
   "id": "d2baa99a-8d82-4617-8d59-e723e2401666",
   "metadata": {},
   "outputs": [],
   "source": [
    "from prompt.prompt import get_sentiment_classifier_prompt\n",
    "from llm_service.llm_caller import LLMCaller\n",
    "from config import LLMConfig, load_yaml_config\n",
    "from utils.load_label_maps import load_label_maps\n",
    "from utils.evaluate import get_accuracy\n",
    "from utils.preprocess import *\n",
    "\n",
    "import time\n",
    "from tqdm import tqdm"
   ]
  },
  {
   "cell_type": "code",
   "execution_count": 4,
   "id": "2fef533c-0490-43e7-a741-57c5909f8a56",
   "metadata": {},
   "outputs": [],
   "source": [
    "def preprocess_pipelines(text: str) -> str:\n",
    "    text = remove_url(text)\n",
    "    text = remove_special_char(text)\n",
    "    return text"
   ]
  },
  {
   "cell_type": "code",
   "execution_count": 5,
   "id": "a1b396b1-b785-45ae-b61f-9b5381af50e2",
   "metadata": {},
   "outputs": [],
   "source": [
    "LABEL_MAPS = load_label_maps(\"../dataset/label_maps.yaml\")"
   ]
  },
  {
   "cell_type": "code",
   "execution_count": 6,
   "id": "a15071f7-6eb8-45dd-9837-9003997d6d5e",
   "metadata": {},
   "outputs": [],
   "source": [
    "load_yaml_config(\"../config/gemini_config.yaml\")"
   ]
  },
  {
   "cell_type": "code",
   "execution_count": 7,
   "id": "08ee9448-851f-4224-9fce-f730663880cb",
   "metadata": {},
   "outputs": [
    {
     "name": "stderr",
     "output_type": "stream",
     "text": [
      "/root/.local/lib/python3.10/site-packages/tqdm/auto.py:21: TqdmWarning: IProgress not found. Please update jupyter and ipywidgets. See https://ipywidgets.readthedocs.io/en/stable/user_install.html\n",
      "  from .autonotebook import tqdm as notebook_tqdm\n"
     ]
    }
   ],
   "source": [
    "llm_config = LLMConfig()\n",
    "llm_service = LLMCaller(llm_config)"
   ]
  },
  {
   "cell_type": "code",
   "execution_count": 8,
   "id": "f5d34eab-2330-4b75-aef9-b5727acb3d7f",
   "metadata": {},
   "outputs": [
    {
     "data": {
      "text/plain": [
       "'gemini-1.5-flash'"
      ]
     },
     "execution_count": 8,
     "metadata": {},
     "output_type": "execute_result"
    }
   ],
   "source": [
    "llm_config.MODEL"
   ]
  },
  {
   "cell_type": "code",
   "execution_count": 13,
   "id": "f903fc92-82e2-4894-81c7-4771d3f2bce7",
   "metadata": {},
   "outputs": [
    {
     "name": "stderr",
     "output_type": "stream",
     "text": [
      "100%|█████████████████████████████████████████████████████████████████████████████████████████████████████████████████████| 275/275 [04:23<00:00,  1.05it/s]\n"
     ]
    }
   ],
   "source": [
    "import os\n",
    "\n",
    "total_row = len(test_df)\n",
    "ans_df = pd.DataFrame(columns=[\"texts\", \"category\", \"process_time\"])\n",
    "\n",
    "RESULTS_DIR = \"../results/\"\n",
    "results_path = os.path.join(RESULTS_DIR, f\"{llm_service.llm_config.MODEL}_preprocess_results_1.csv\")\n",
    "\n",
    "if not os.path.exists(RESULTS_DIR):\n",
    "    os.makedirs(RESULTS_DIR)\n",
    "\n",
    "for row in tqdm(range(0, 275)):\n",
    "    sentence = test_df.loc[row, \"texts\"]\n",
    "    preprocessed_sentence = preprocess_pipelines(sentence)\n",
    "    sentiment_classifier_prompt = get_sentiment_classifier_prompt(message=preprocessed_sentence)\n",
    "    start_process = time.time()\n",
    "    ans = llm_service.call(sentiment_classifier_prompt)\n",
    "    process_time = time.time() - start_process\n",
    "    try:\n",
    "        category = LABEL_MAPS[ans]\n",
    "    except KeyError:\n",
    "        category = ans\n",
    "\n",
    "    ans_df.loc[row, \"texts\"] = sentence\n",
    "    ans_df.loc[row, \"category\"] = category\n",
    "    ans_df.loc[row, \"process_time\"] = process_time\n",
    "\n",
    "    ans_df.to_csv(results_path, index=False)"
   ]
  },
  {
   "cell_type": "code",
   "execution_count": 14,
   "id": "68c7d821-5b82-46b9-a373-24ed65f65722",
   "metadata": {},
   "outputs": [],
   "source": [
    "ans_df = pd.read_csv(\"../results/gemini-1.5-flash_preprocess_results.csv\")"
   ]
  },
  {
   "cell_type": "code",
   "execution_count": 10,
   "id": "e629d58e-a28d-46aa-8052-c422aeb3d393",
   "metadata": {},
   "outputs": [
    {
     "ename": "ValueError",
     "evalue": "2 dataframes not same length.",
     "output_type": "error",
     "traceback": [
      "\u001b[0;31m---------------------------------------------------------------------------\u001b[0m",
      "\u001b[0;31mValueError\u001b[0m                                Traceback (most recent call last)",
      "Cell \u001b[0;32mIn[10], line 1\u001b[0m\n\u001b[0;32m----> 1\u001b[0m acc \u001b[38;5;241m=\u001b[39m \u001b[43mget_accuracy\u001b[49m\u001b[43m(\u001b[49m\u001b[43mtest_df\u001b[49m\u001b[43m,\u001b[49m\u001b[43m \u001b[49m\u001b[43mans_df\u001b[49m\u001b[43m)\u001b[49m\n",
      "File \u001b[0;32m/sentiment_analysis_with_LLM/src/utils/evaluate.py:8\u001b[0m, in \u001b[0;36mget_accuracy\u001b[0;34m(test_df, ans_df)\u001b[0m\n\u001b[1;32m      5\u001b[0m correct \u001b[38;5;241m=\u001b[39m \u001b[38;5;241m0\u001b[39m\n\u001b[1;32m      7\u001b[0m \u001b[38;5;28;01mif\u001b[39;00m \u001b[38;5;28mlen\u001b[39m(test_df) \u001b[38;5;241m!=\u001b[39m \u001b[38;5;28mlen\u001b[39m(ans_df):\n\u001b[0;32m----> 8\u001b[0m     \u001b[38;5;28;01mraise\u001b[39;00m \u001b[38;5;167;01mValueError\u001b[39;00m(\u001b[38;5;124m\"\u001b[39m\u001b[38;5;124m2 dataframes not same length.\u001b[39m\u001b[38;5;124m\"\u001b[39m)\n\u001b[1;32m     10\u001b[0m total_row \u001b[38;5;241m=\u001b[39m \u001b[38;5;28mlen\u001b[39m(test_df)\n\u001b[1;32m     11\u001b[0m \u001b[38;5;28;01mfor\u001b[39;00m row \u001b[38;5;129;01min\u001b[39;00m \u001b[38;5;28mrange\u001b[39m(total_row):\n",
      "\u001b[0;31mValueError\u001b[0m: 2 dataframes not same length."
     ]
    }
   ],
   "source": [
    "acc = get_accuracy(test_df, ans_df)"
   ]
  },
  {
   "cell_type": "code",
   "execution_count": 12,
   "id": "56d5eb3c-3de7-4c7f-88e3-b944c6e49a20",
   "metadata": {},
   "outputs": [
    {
     "data": {
      "text/plain": [
       "2671"
      ]
     },
     "execution_count": 12,
     "metadata": {},
     "output_type": "execute_result"
    }
   ],
   "source": [
    "len(test_df)"
   ]
  },
  {
   "cell_type": "code",
   "execution_count": null,
   "id": "85502073-14b4-4eda-a84e-9546cd27082b",
   "metadata": {},
   "outputs": [],
   "source": [
    "acc"
   ]
  },
  {
   "cell_type": "code",
   "execution_count": 16,
   "id": "8949081b-cb27-425d-941d-e5635f4765d6",
   "metadata": {},
   "outputs": [],
   "source": [
    "post_process_ans_df = pd.DataFrame(columns=[\"texts\", \"category\", \"process_time\"])\n",
    "for row in range(len(ans_df)):\n",
    "    category = ans_df.loc[row, \"category\"]\n",
    "    if isinstance(category, str):\n",
    "        if \"neutral\" in category:\n",
    "            category = LABEL_MAPS[\"neutral\"]\n",
    "        elif \"positive\" in category:\n",
    "            category = LABEL_MAPS[\"positive\"]\n",
    "        elif \"negative\" in category:\n",
    "            category = LABEL_MAPS[\"negative\"]\n",
    "        elif \"question\" in category:\n",
    "            category = LABEL_MAPS[\"question\"]\n",
    "\n",
    "    post_process_ans_df.loc[row, \"texts\"] = ans_df.loc[row, \"texts\"]\n",
    "    post_process_ans_df.loc[row, \"category\"] = category\n",
    "    post_process_ans_df.loc[row, \"process_time\"] = ans_df.loc[row, \"process_time\"]"
   ]
  },
  {
   "cell_type": "code",
   "execution_count": null,
   "id": "c5f7b845-d681-46c6-b91d-e548cc35916f",
   "metadata": {},
   "outputs": [],
   "source": [
    "acc = get_accuracy(test_df, post_process_ans_df)"
   ]
  },
  {
   "cell_type": "code",
   "execution_count": null,
   "id": "7d14db9a-01f9-4a01-9006-58924ede5dd0",
   "metadata": {},
   "outputs": [],
   "source": [
    "acc"
   ]
  },
  {
   "cell_type": "code",
   "execution_count": null,
   "id": "0f99e755-440e-4b6a-bd35-6aa8ce376d34",
   "metadata": {},
   "outputs": [],
   "source": [
    "for row in range(len(post_process_ans_df)):\n",
    "    pred = post_process_ans_df.loc[row, \"category\"]\n",
    "    actual = test_df.loc[row, \"category\"]\n",
    "    text = post_process_ans_df.loc[row, \"texts\"]\n",
    "    if pred != actual:\n",
    "        print(f\"{text}, actual: {actual}, pred: {pred}\")"
   ]
  },
  {
   "cell_type": "code",
   "execution_count": null,
   "id": "e3d24c9f-4209-492d-9054-78f6481e38f1",
   "metadata": {},
   "outputs": [],
   "source": []
  }
 ],
 "metadata": {
  "kernelspec": {
   "display_name": "Python 3 (ipykernel)",
   "language": "python",
   "name": "python3"
  },
  "language_info": {
   "codemirror_mode": {
    "name": "ipython",
    "version": 3
   },
   "file_extension": ".py",
   "mimetype": "text/x-python",
   "name": "python",
   "nbconvert_exporter": "python",
   "pygments_lexer": "ipython3",
   "version": "3.10.12"
  }
 },
 "nbformat": 4,
 "nbformat_minor": 5
}
